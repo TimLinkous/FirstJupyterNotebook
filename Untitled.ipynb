{
 "cells": [
  {
   "cell_type": "code",
   "execution_count": 9,
   "id": "d140ab87-c418-4f06-a528-c553fdd52ab3",
   "metadata": {},
   "outputs": [
    {
     "name": "stdout",
     "output_type": "stream",
     "text": [
      "<class 'pandas.core.frame.DataFrame'>\n",
      "RangeIndex: 33072 entries, 0 to 33071\n",
      "Data columns (total 25 columns):\n",
      " #   Column                                    Non-Null Count  Dtype  \n",
      "---  ------                                    --------------  -----  \n",
      " 0   Museum ID                                 33072 non-null  int64  \n",
      " 1   Museum Name                               33072 non-null  object \n",
      " 2   Legal Name                                33072 non-null  object \n",
      " 3   Alternate Name                            1927 non-null   object \n",
      " 4   Museum Type                               33072 non-null  object \n",
      " 5   Institution Name                          2749 non-null   object \n",
      " 6   Street Address (Administrative Location)  33062 non-null  object \n",
      " 7   City (Administrative Location)            33072 non-null  object \n",
      " 8   State (Administrative Location)           33072 non-null  object \n",
      " 9   Zip Code (Administrative Location)        33072 non-null  object \n",
      " 10  Street Address (Physical Location)        9216 non-null   object \n",
      " 11  City (Physical Location)                  9223 non-null   object \n",
      " 12  State (Physical Location)                 9223 non-null   object \n",
      " 13  Zip Code (Physical Location)              9221 non-null   float64\n",
      " 14  Phone Number                              22932 non-null  object \n",
      " 15  Latitude                                  33007 non-null  float64\n",
      " 16  Longitude                                 33007 non-null  float64\n",
      " 17  Locale Code (NCES)                        32995 non-null  float64\n",
      " 18  County Code (FIPS)                        30536 non-null  float64\n",
      " 19  State Code (FIPS)                         33071 non-null  float64\n",
      " 20  Region Code (AAM)                         33072 non-null  int64  \n",
      " 21  Employer ID Number                        27554 non-null  object \n",
      " 22  Tax Period                                23280 non-null  float64\n",
      " 23  Income                                    22961 non-null  float64\n",
      " 24  Revenue                                   22290 non-null  float64\n",
      "dtypes: float64(9), int64(2), object(14)\n",
      "memory usage: 6.3+ MB\n"
     ]
    },
    {
     "name": "stderr",
     "output_type": "stream",
     "text": [
      "/var/folders/fn/3w5085ns7nv4v62cfvj7m9sm0000gp/T/ipykernel_18130/2361279361.py:3: DtypeWarning: Columns (9,14,21) have mixed types. Specify dtype option on import or set low_memory=False.\n",
      "  df = pd.read_csv('museums.csv')\n"
     ]
    }
   ],
   "source": [
    "import pandas as pd\n",
    "\n",
    "df = pd.read_csv('museums.csv')\n",
    "\n",
    "df.info()\n"
   ]
  },
  {
   "cell_type": "code",
   "execution_count": 12,
   "id": "2b22fd62-e1a1-4d8b-8651-ac7dad3c0e19",
   "metadata": {},
   "outputs": [
    {
     "name": "stdout",
     "output_type": "stream",
     "text": [
      "CA: 2670\n",
      "NEW YORK: 297\n"
     ]
    }
   ],
   "source": [
    "state_count = df['State (Administrative Location)'].value_counts()\n",
    "city_count = df['City (Administrative Location)'].value_counts()\n",
    "\n",
    "states_most_museums = state_count.idxmax()\n",
    "state_most_museums_count = state_count.max()\n",
    "\n",
    "cities_most_museums = city_count.idxmax()\n",
    "cities_most_museums_count = city_count.max()\n",
    "\n",
    "print(f\"{states_most_museums}: {state_most_museums_count}\")\n",
    "print(f\"{cities_most_museums}: {cities_most_museums_count}\")"
   ]
  },
  {
   "cell_type": "code",
   "execution_count": 13,
   "id": "2c3a7ccf-e233-4a71-8074-c28727d127a4",
   "metadata": {},
   "outputs": [
    {
     "name": "stdout",
     "output_type": "stream",
     "text": [
      "DE: 132\n",
      "PAUPACH: 1\n"
     ]
    }
   ],
   "source": [
    "state_count = df['State (Administrative Location)'].value_counts()\n",
    "city_count = df['City (Administrative Location)'].value_counts()\n",
    "\n",
    "states_least_museums = state_count.idxmin()\n",
    "state_least_museums_count = state_count.min()\n",
    "\n",
    "cities_least_museums = city_count.idxmin()\n",
    "cities_least_museums_count = city_count.min()\n",
    "\n",
    "print(f\"{states_least_museums}: {state_least_museums_count}\")\n",
    "print(f\"{cities_least_museums}: {cities_least_museums_count}\")"
   ]
  },
  {
   "cell_type": "code",
   "execution_count": 24,
   "id": "4221c25e-1a9f-4cec-b940-9b17dd262957",
   "metadata": {},
   "outputs": [
    {
     "name": "stdout",
     "output_type": "stream",
     "text": [
      "Index(['Museum ID', 'Museum Name', 'Legal Name', 'Alternate Name',\n",
      "       'Museum Type', 'Institution Name',\n",
      "       'Street Address (Administrative Location)',\n",
      "       'City (Administrative Location)', 'State (Administrative Location)',\n",
      "       'Zip Code (Administrative Location)',\n",
      "       'Street Address (Physical Location)', 'City (Physical Location)',\n",
      "       'State (Physical Location)', 'Zip Code (Physical Location)',\n",
      "       'Phone Number', 'Latitude', 'Longitude', 'Locale Code (NCES)',\n",
      "       'County Code (FIPS)', 'State Code (FIPS)', 'Region Code (AAM)',\n",
      "       'Employer ID Number', 'Tax Period', 'Income', 'Revenue'],\n",
      "      dtype='object')\n",
      "Total number of Zoos, Aquariums, Wildlife Conservations: 564\n"
     ]
    }
   ],
   "source": [
    "print(df.columns)\n",
    "\n",
    "zoo_aquarium_wildlife = df[df['Museum Type'].str.contains(\"ZOO|AQUARIUM|WILDLIFE\", na = False)]\n",
    "num_zoo_aquarium_wildlife = len(zoo_aquarium_wildlife)\n",
    "print(f'Total number of Zoos, Aquariums, Wildlife Conservations: {num_zoo_aquarium_wildlife}')"
   ]
  },
  {
   "cell_type": "code",
   "execution_count": 25,
   "id": "cb702149-6941-49b5-af71-15552eea4db3",
   "metadata": {},
   "outputs": [
    {
     "name": "stdout",
     "output_type": "stream",
     "text": [
      "Total number of Zoos: 289\n"
     ]
    }
   ],
   "source": [
    "zoos = df[df['Museum Name'].str.contains(\"ZOO\", na = False)]\n",
    "num_zoos = len(zoos)\n",
    "print(f'Total number of Zoos: {num_zoos}')"
   ]
  },
  {
   "cell_type": "code",
   "execution_count": 27,
   "id": "54a0a626-cfea-4451-9020-09212dc7d30c",
   "metadata": {},
   "outputs": [
    {
     "name": "stdout",
     "output_type": "stream",
     "text": [
      "['HISTORY MUSEUM' 'ARBORETUM, BOTANICAL GARDEN, OR NATURE CENTER'\n",
      " 'SCIENCE & TECHNOLOGY MUSEUM OR PLANETARIUM' 'HISTORIC PRESERVATION'\n",
      " 'GENERAL MUSEUM' 'ZOO, AQUARIUM, OR WILDLIFE CONSERVATION' 'ART MUSEUM'\n",
      " \"CHILDREN'S MUSEUM\" 'NATURAL HISTORY MUSEUM']\n",
      "Total number of Aquariums: 129\n"
     ]
    }
   ],
   "source": [
    "print(df[\"Museum Type\"].unique())\n",
    "\n",
    "aquariums = df[df['Museum Name'].str.contains(\"AQUA\", na = False)]\n",
    "num_aqu = len(aquariums)\n",
    "print(f'Total number of Aquariums: {num_aqu}')"
   ]
  },
  {
   "cell_type": "code",
   "execution_count": 36,
   "id": "b0ce2a2c-c22f-4cd4-9226-b1a03f0071f9",
   "metadata": {},
   "outputs": [
    {
     "name": "stdout",
     "output_type": "stream",
     "text": [
      "Museum/Organization with the highest Revenue:        Museum ID                        Museum Name  \\\n",
      "1090  8409500460  FRED LAWRENCE WHIPPLE OBSERVATORY   \n",
      "\n",
      "                                    Legal Name Alternate Name  \\\n",
      "1090  PRESIDENT AND FELLOWS OF HARVARD COLLEGE            NaN   \n",
      "\n",
      "                                     Museum Type    Institution Name  \\\n",
      "1090  SCIENCE & TECHNOLOGY MUSEUM OR PLANETARIUM  HARVARD UNIVERSITY   \n",
      "\n",
      "     Street Address (Administrative Location) City (Administrative Location)  \\\n",
      "1090                        670 MT HOPKINS RD                          AMADO   \n",
      "\n",
      "     State (Administrative Location) Zip Code (Administrative Location)  ...  \\\n",
      "1090                              AZ                               2138  ...   \n",
      "\n",
      "      Latitude Longitude Locale Code (NCES)  County Code (FIPS)  \\\n",
      "1090  42.36977 -71.11216                1.0                17.0   \n",
      "\n",
      "     State Code (FIPS)  Region Code (AAM)  Employer ID Number  Tax Period  \\\n",
      "1090              25.0                  1            42103580    201306.0   \n",
      "\n",
      "            Income       Revenue  \n",
      "1090  8.318144e+10  5.840349e+09  \n",
      "\n",
      "[1 rows x 25 columns]\n"
     ]
    }
   ],
   "source": [
    "df['Revenue'] = pd.to_numeric(df['Revenue'], errors = 'coerce')\n",
    "\n",
    "max_rev = df['Revenue'].max()\n",
    "\n",
    "highest_revenue = df[df['Revenue'] == max_rev].head(1)\n",
    "#highest_revenue = df[df['Revenue'] == max_rev]  ##shows a\n",
    "\n",
    "print(f'Museum/Organization with the highest Revenue: {highest_revenue}')"
   ]
  },
  {
   "cell_type": "code",
   "execution_count": null,
   "id": "e625a61b-2b7d-4b49-9366-615c4007d991",
   "metadata": {},
   "outputs": [],
   "source": []
  },
  {
   "cell_type": "code",
   "execution_count": null,
   "id": "edb84003-5c36-4ee3-910b-72e421bba169",
   "metadata": {},
   "outputs": [],
   "source": []
  }
 ],
 "metadata": {
  "kernelspec": {
   "display_name": "Python 3 (ipykernel)",
   "language": "python",
   "name": "python3"
  },
  "language_info": {
   "codemirror_mode": {
    "name": "ipython",
    "version": 3
   },
   "file_extension": ".py",
   "mimetype": "text/x-python",
   "name": "python",
   "nbconvert_exporter": "python",
   "pygments_lexer": "ipython3",
   "version": "3.12.4"
  }
 },
 "nbformat": 4,
 "nbformat_minor": 5
}
